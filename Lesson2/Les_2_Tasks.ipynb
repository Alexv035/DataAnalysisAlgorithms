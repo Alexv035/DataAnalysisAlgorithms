{
 "cells": [
  {
   "cell_type": "code",
   "execution_count": 158,
   "metadata": {},
   "outputs": [],
   "source": [
    "import numpy as np\n",
    "from sklearn import datasets\n",
    "import matplotlib.pyplot as plt\n",
    "\n",
    "%matplotlib inline"
   ]
  },
  {
   "cell_type": "code",
   "execution_count": 159,
   "metadata": {},
   "outputs": [],
   "source": [
    "# сгенерируем набор данных\n",
    "data, target, coef = datasets.make_regression(n_samples=1000, n_features = 2, n_informative = 2, n_targets = 1, \n",
    "                                              noise = 5, coef = True, random_state = 2)"
   ]
  },
  {
   "cell_type": "code",
   "execution_count": 160,
   "metadata": {},
   "outputs": [
    {
     "data": {
      "text/plain": [
       "array([62.6735955, 68.0472182])"
      ]
     },
     "execution_count": 160,
     "metadata": {},
     "output_type": "execute_result"
    }
   ],
   "source": [
    "X = data.T.copy()\n",
    "y = target.copy()\n",
    "coef"
   ]
  },
  {
   "cell_type": "code",
   "execution_count": 161,
   "metadata": {},
   "outputs": [],
   "source": [
    "# реализуем функцию, определяющую среднеквадратичную ошибку\n",
    "def calc_mse(y, y_pred):\n",
    "    err = np.mean((y - y_pred)**2)\n",
    "    return err"
   ]
  },
  {
   "cell_type": "code",
   "execution_count": 162,
   "metadata": {},
   "outputs": [],
   "source": [
    "def eval_model(X, y, iterations, alpha=1e-4):\n",
    "    r_eval = []\n",
    "    a = []\n",
    "    W = np.random.randn(X.shape[0])\n",
    "    n = X.shape[1]\n",
    "    for i in range(1, iterations+1):\n",
    "        y_pred = np.dot(W, X)\n",
    "        err = calc_mse(y, y_pred)\n",
    "        W -= (alpha * (1/n * 2 * np.dot((y_pred - y), X.T)))\n",
    "        if i % (iterations / 10) == 0:\n",
    "            print(i, W, err)\n",
    "        r_eval.append([i, err])\n",
    "    r_eval  = np.asarray(r_eval)        \n",
    "    return W, r_eval"
   ]
  },
  {
   "cell_type": "code",
   "execution_count": 163,
   "metadata": {},
   "outputs": [
    {
     "name": "stdout",
     "output_type": "stream",
     "text": [
      "100 [53.28191669 58.65481316] 199.61807378645807\n",
      "200 [61.00244372 66.89096756] 30.084457624662164\n",
      "300 [62.13388695 68.07924021] 26.5032064232814\n",
      "400 [62.29956681 68.25080328] 26.42753846559995\n",
      "500 [62.32381036 68.27559009] 26.42593938881043\n",
      "600 [62.32735561 68.27917338] 26.42590559074356\n",
      "700 [62.32787375 68.27969168] 26.425904876300656\n",
      "800 [62.32794944 68.27976669] 26.42590486119685\n",
      "900 [62.32796049 68.27977755] 26.42590486087752\n",
      "1000 [62.3279621  68.27977912] 26.425904860870766\n"
     ]
    },
    {
     "data": {
      "text/plain": [
       "array([62.3279621 , 68.27977912])"
      ]
     },
     "execution_count": 163,
     "metadata": {},
     "output_type": "execute_result"
    }
   ],
   "source": [
    "r_eval = np.array([])\n",
    "W_eval, r_eval = eval_model(X, y, iterations=1000, alpha=1e-2)\n",
    "W_eval"
   ]
  },
  {
   "cell_type": "code",
   "execution_count": 164,
   "metadata": {},
   "outputs": [],
   "source": [
    "def eval_sgd_model(X, y, iterations, qty_in_batch=1, alpha=1e-4):\n",
    "    r_sgb = []\n",
    "    W = np.random.randn(X.shape[0])\n",
    "    n = X.shape[1]\n",
    "    n_batch = n // qty_in_batch\n",
    "    if n % qty_in_batch != 0:\n",
    "        n_batch += 1\n",
    "    for i in range(1, iterations+1):\n",
    "        for b in range(n_batch):\n",
    "            start_ = qty_in_batch*b\n",
    "            end_ = qty_in_batch*(b+1)\n",
    "\n",
    "            # print(b, n_batch, start_, end_)\n",
    "\n",
    "            X_tmp = X[:, start_ : end_]\n",
    "            y_tmp = y[start_ : end_]\n",
    "            y_pred_tmp = np.dot(W, X_tmp)\n",
    "            err = calc_mse(y_tmp, y_pred_tmp)\n",
    "            W -= (alpha * (1/n * 2 * np.dot((y_pred_tmp - y_tmp), X_tmp.T)))\n",
    "\n",
    "        if i % (iterations / 10) == 0:\n",
    "            print(i, W, err)\n",
    "        r_sgb.append([i, err])\n",
    "    r_sgb  = np.asarray(r_sgb)\n",
    "    return W, r_sgb"
   ]
  },
  {
   "cell_type": "code",
   "execution_count": 165,
   "metadata": {},
   "outputs": [
    {
     "name": "stdout",
     "output_type": "stream",
     "text": [
      "100 [52.97736775 58.22127319] 3.0811107955193604\n",
      "200 [60.93118372 66.80142626] 23.42797454955328\n",
      "300 [62.11896497 68.06184952] 28.00868224375945\n",
      "400 [62.29619358 68.2471431 ] 28.714959432673048\n",
      "500 [62.32261812 68.27440149] 28.819386529754386\n",
      "600 [62.32655536 68.27841396] 28.83474535618557\n",
      "700 [62.32714166 68.27900493] 28.83700392900999\n",
      "800 [62.32722892 68.27909202] 28.837336239505472\n",
      "900 [62.3272419  68.27910486] 28.837385162351488\n",
      "1000 [62.32724383 68.27910676] 28.837392368807592\n"
     ]
    },
    {
     "data": {
      "text/plain": [
       "array([62.32724383, 68.27910676])"
      ]
     },
     "execution_count": 165,
     "metadata": {},
     "output_type": "execute_result"
    }
   ],
   "source": [
    "r_sgb = np.array([])\n",
    "w_sgb, r_sgb = eval_sgd_model(X, y, iterations=1000, qty_in_batch=1, alpha=1e-2)\n",
    "w_sgb"
   ]
  },
  {
   "cell_type": "code",
   "execution_count": 166,
   "metadata": {},
   "outputs": [
    {
     "data": {
      "image/png": "[encoded data removed]",
      "text/plain": [
       "<Figure size 936x432 with 1 Axes>"
      ]
     },
     "metadata": {
      "needs_background": "light"
     },
     "output_type": "display_data"
    }
   ],
   "source": [
    "plt.figure(figsize=(13, 6))\n",
    "plt.title('MSE в зависимости от метода')\n",
    "plt.xlabel(r'Iterations')\n",
    "plt.ylabel(r'MSE')\n",
    "\n",
    "plt.plot(r_sgb[:, 0], r_sgb[:, 1], r_eval[:, 0], r_eval[:, 1])\n",
    "plt.legend((\"SGB\", \"EVAL\"))\n",
    "plt.show()"
   ]
  },
  {
   "cell_type": "markdown",
   "metadata": {},
   "source": [
    "L2 регулизация"
   ]
  },
  {
   "cell_type": "code",
   "execution_count": 167,
   "metadata": {},
   "outputs": [],
   "source": [
    "def eval_model_reg2(X, y, iterations, alpha=1e-4, lambda_=1e-8):\n",
    "    r_l2 = []\n",
    "    np.random.seed(42)\n",
    "    W = np.random.randn(X.shape[0])\n",
    "    n = X.shape[1]\n",
    "    for i in range(1, iterations+1):\n",
    "        y_pred = np.dot(W, X)\n",
    "        err = calc_mse(y, y_pred)\n",
    "        W -= alpha * (1/n * 2 * np.dot((y_pred - y), X.T) + lambda_ * W) \n",
    "        if i % (iterations / 10) == 0:\n",
    "            print(i, W, err)\n",
    "        r_l2.append([i, err])\n",
    "    r_l2  = np.asarray(r_l2)\n",
    "    return W, r_l2"
   ]
  },
  {
   "cell_type": "code",
   "execution_count": 168,
   "metadata": {},
   "outputs": [
    {
     "name": "stdout",
     "output_type": "stream",
     "text": [
      "100 [53.24725692 58.42308297] 204.73733808633978\n",
      "200 [60.99331793 66.85593124] 30.20630304070666\n",
      "300 [62.1295916  68.07132914] 26.508043574077455\n",
      "400 [62.29611853 68.24664146] 26.42799292713515\n",
      "500 [62.32050396 68.27194766] 26.42601898540432\n",
      "600 [62.32407225 68.27560306] 26.425936159207424\n",
      "700 [62.32459406 68.27613139] 26.425928432741667\n",
      "800 [62.32467032 68.2762078 ] 26.42592740085212\n",
      "900 [62.32468146 68.27621886] 26.42592725279169\n",
      "1000 [62.32468309 68.27622046] 26.42592723131077\n"
     ]
    },
    {
     "data": {
      "text/plain": [
       "array([62.32468309, 68.27622046])"
      ]
     },
     "execution_count": 168,
     "metadata": {},
     "output_type": "execute_result"
    }
   ],
   "source": [
    "r_l2 = np.array([])\n",
    "W_l2, r_l2 = eval_model_reg2(X, y, iterations=1000, alpha=1e-2, lambda_=1e-4)\n",
    "W_l2"
   ]
  },
  {
   "cell_type": "markdown",
   "metadata": {},
   "source": [
    "L1 регулизация"
   ]
  },
  {
   "cell_type": "code",
   "execution_count": 169,
   "metadata": {},
   "outputs": [],
   "source": [
    "def eval_model_reg3(X, y, iterations, alpha=1e-4, lambda_=1e-8):\n",
    "    r_l1 = []\n",
    "    np.random.seed(42)\n",
    "    W = np.random.randn(X.shape[0])\n",
    "    n = X.shape[1]\n",
    "    for i in range(1, iterations+1):\n",
    "        y_pred = np.dot(W, X)\n",
    "        err = calc_mse(y, y_pred)\n",
    "        W -= alpha * (1/n * 2 * np.dot((y_pred - y), X.T) + lambda_/2) \n",
    "        if i % (iterations / 10) == 0:\n",
    "            print(i, W, err)\n",
    "        r_l1.append([i, err])\n",
    "    r_l1  = np.asarray(r_l1)\n",
    "    return W, r_l1"
   ]
  },
  {
   "cell_type": "code",
   "execution_count": 170,
   "metadata": {},
   "outputs": [
    {
     "name": "stdout",
     "output_type": "stream",
     "text": [
      "100 [53.24910717 58.42510163] 204.66655567526826\n",
      "200 [60.99622931 66.85910068] 30.18999443781989\n",
      "300 [62.13277446 68.0747884 ] 26.50543258765594\n",
      "400 [62.29935816 68.2501604 ] 26.42758768204224\n",
      "500 [62.32375439 68.2754778 ] 26.42594079248447\n",
      "600 [62.32732462 68.27913519] 26.425905675152876\n",
      "700 [62.32784676 68.27966387] 26.425904887152438\n",
      "800 [62.32792308 68.27974033] 26.425904863839925\n",
      "900 [62.32793423 68.2797514 ] 26.425904862379394\n",
      "1000 [62.32793586 68.279753  ] 26.425904862207812\n"
     ]
    },
    {
     "data": {
      "text/plain": [
       "array([62.32793586, 68.279753  ])"
      ]
     },
     "execution_count": 170,
     "metadata": {},
     "output_type": "execute_result"
    }
   ],
   "source": [
    "r_l1 = np.array([])\n",
    "W_l1, r_l1 = eval_model_reg3(X, y, iterations=1000, alpha=1e-2, lambda_=1e-4)\n",
    "W_l1"
   ]
  },
  {
   "cell_type": "code",
   "execution_count": 171,
   "metadata": {},
   "outputs": [
    {
     "data": {
      "image/png": "[encoded data removed]",
      "text/plain": [
       "<Figure size 936x432 with 1 Axes>"
      ]
     },
     "metadata": {
      "needs_background": "light"
     },
     "output_type": "display_data"
    }
   ],
   "source": [
    "plt.figure(figsize=(13, 6))\n",
    "plt.title('MSE в зависимости от метода')\n",
    "plt.xlabel(r'Iterations')\n",
    "plt.ylabel(r'MSE')\n",
    "\n",
    "plt.plot(r_sgb[:, 0], r_sgb[:, 1], r_l1[:, 0], r_l1[:, 1], r_l2[:, 0], r_l2[:, 1])\n",
    "plt.legend((\"SGB\", \"L1\", \"L2\"))\n",
    "plt.show()"
   ]
  },
  {
   "cell_type": "code",
   "execution_count": null,
   "metadata": {},
   "outputs": [],
   "source": []
  }
 ],
 "metadata": {
  "kernelspec": {
   "display_name": "Python 3",
   "language": "python",
   "name": "python3"
  },
  "language_info": {
   "codemirror_mode": {
    "name": "ipython",
    "version": 3
   },
   "file_extension": ".py",
   "mimetype": "text/x-python",
   "name": "python",
   "nbconvert_exporter": "python",
   "pygments_lexer": "ipython3",
   "version": "3.8.3"
  }
 },
 "nbformat": 4,
 "nbformat_minor": 4
}
