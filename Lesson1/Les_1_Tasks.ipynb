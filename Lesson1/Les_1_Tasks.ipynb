{
 "cells": [
  {
   "cell_type": "code",
   "execution_count": 20,
   "metadata": {},
   "outputs": [],
   "source": [
    "import numpy as np\n",
    "import matplotlib.pyplot as plt\n",
    "import math as math"
   ]
  },
  {
   "cell_type": "code",
   "execution_count": 21,
   "metadata": {},
   "outputs": [],
   "source": [
    "np.random.seed(1234)"
   ]
  },
  {
   "cell_type": "code",
   "execution_count": 22,
   "metadata": {},
   "outputs": [],
   "source": [
    "# Возьмем 2 признака и 1000 объектов\n",
    "n_features = 2\n",
    "n_objects = 1000\n",
    "\n",
    "# сгенерируем вектор истинных весов\n",
    "w_true = np.random.normal(size=(n_features, ))\n",
    "\n",
    "# сгенерируем матрицу X, вычислим Y с добавлением случайного шума\n",
    "X = np.random.uniform(-7, 7, (n_objects, n_features))\n",
    "Y = X.dot(w_true) + np.random.normal(0, 0.5, size=(n_objects))\n",
    "\n",
    "# возьмем нулевые начальные веса\n",
    "w = np.zeros(n_features)"
   ]
  },
  {
   "cell_type": "code",
   "execution_count": 24,
   "metadata": {},
   "outputs": [],
   "source": [
    "# реализуем функцию, определяющую среднеквадратичную ошибку\n",
    "def mserror(X, w, y_pred):\n",
    "    y = X.dot(w)\n",
    "    return (sum((y - y_pred)**2)) / len(y)"
   ]
  },
  {
   "cell_type": "markdown",
   "metadata": {},
   "source": [
    "Реализуем функцию, вычисляющую вектор весов по нормальному уравнению линейной регрессии, и применим ее."
   ]
  },
  {
   "cell_type": "code",
   "execution_count": 25,
   "metadata": {},
   "outputs": [
    {
     "name": "stdout",
     "output_type": "stream",
     "text": [
      "В случае использования нормального уравнения функционал ошибки составляет 0.24134031\n"
     ]
    }
   ],
   "source": [
    "def normal_equation(X, y):\n",
    "    return np.linalg.solve((X.T).dot(X), (X.T).dot(y))\n",
    "\n",
    "normal_eq_w = normal_equation(X, Y)\n",
    "print(f'В случае использования нормального уравнения функционал ошибки составляет {round(mserror(X, normal_eq_w, Y), 8)}')\n",
    "normal_error = round(mserror(X, normal_eq_w, Y), 8)"
   ]
  },
  {
   "cell_type": "markdown",
   "metadata": {},
   "source": [
    "Обучим линейную регрессию путем градиентного спуска и получим графики изменения весов и ошибки"
   ]
  },
  {
   "cell_type": "code",
   "execution_count": 26,
   "metadata": {},
   "outputs": [],
   "source": [
    "def f_alpha(etab, max_iterb):    \n",
    "\n",
    "    # список векторов весов после каждой итерации\n",
    "    global w\n",
    "    wn = w.copy()\n",
    "    w_list = [w.copy()]\n",
    "    \n",
    "    # список значений ошибок после каждой итерации\n",
    "    errors = []\n",
    "\n",
    "    # шаг градиентного спуска\n",
    "    eta = etab\n",
    "\n",
    "    # максимальное число итераций\n",
    "    max_iter = max_iterb\n",
    "\n",
    "    # критерий сходимости (разница весов, при которой алгоритм останавливается)\n",
    "    min_weight_dist = 1e-8\n",
    "\n",
    "    # зададим начальную разницу весов большим числом\n",
    "    weight_dist = np.inf\n",
    "\n",
    "    # счетчик итераций\n",
    "    iter_num = 0\n",
    "\n",
    "    # ход градиентного спуска\n",
    "    while weight_dist > min_weight_dist and iter_num < max_iter:\n",
    "        new_w = wn - 2 * eta * np.dot(X.T, (np.dot(X, wn) - Y)) / Y.shape[0]\n",
    "        weight_dist = np.linalg.norm(new_w - wn, ord=2)\n",
    "\n",
    "        w_list.append(new_w.copy())\n",
    "        errors.append(mserror(X, new_w, Y))\n",
    "\n",
    "        iter_num += 1\n",
    "        wn = new_w\n",
    "\n",
    "    w_list = np.array(w_list)\n",
    "    \n",
    "    return iter_num-1, round(errors[-1], 8)\n",
    "\n",
    "\n",
    "#    print(f'В случае использования градиентного спуска функционал ошибки составляет {round(errors[-1], 8)}')\n",
    "#    print(iter_num)"
   ]
  },
  {
   "cell_type": "code",
   "execution_count": 27,
   "metadata": {},
   "outputs": [
    {
     "name": "stdout",
     "output_type": "stream",
     "text": [
      "8 0.24134031\n"
     ]
    }
   ],
   "source": [
    "iter_num, error = f_alpha(0.0287, 9)\n",
    "print(iter_num, error)\n"
   ]
  },
  {
   "cell_type": "code",
   "execution_count": null,
   "metadata": {},
   "outputs": [],
   "source": [
    "eta_beg = 0.5\n",
    "eta_step = 1.1\n",
    "max_iter_beg = 10000\n",
    "eta_f = 0\n",
    "iter_f = 0\n",
    "error_f = 0\n",
    "while True:\n",
    "    iter_1, error_1 = f_alpha(eta_beg, max_iter_beg)\n",
    "    eta_beg_2 = eta_beg/eta_step\n",
    "        \n",
    "    if math.isnan(error_1) == True:\n",
    "        eta_beg = eta_beg_2\n",
    "        #print('NaN: ', eta_beg,iter_1, error_1)\n",
    "    else:\n",
    "        #print(eta_beg,iter_1, error_1)\n",
    "        iter_2, error_2 = f_alpha(eta_beg_2, max_iter_beg)\n",
    "        #print(eta_beg_2,iter_2, error_2)\n",
    "        if error_1 == error_2 and iter_2 < iter_1:\n",
    "            eta_beg = eta_beg_2\n",
    "            eta_f = eta_beg\n",
    "            iter_f = iter_2\n",
    "            error_f = error_1\n",
    "        elif error_1 == error_f and iter_f < iter_2:\n",
    "            eta_f = eta_beg\n",
    "            error_f = error_1\n",
    "            #print('yes')\n",
    "            break\n",
    "        elif iter_2 > max_iter_beg*0.9 or iter_1 > max_iter_beg*0.9:\n",
    "            max_iter_beg = max_iter_beg*1.5\n",
    "            \n",
    "print('eta: ', round(eta_f,4), ', iter_max: ', iter_f, ', mserror: ', round(error_f,8))        "
   ]
  },
  {
   "cell_type": "markdown",
   "metadata": {},
   "source": [
    "Результат:\n",
    "eta:  0.0287 , iter_max:  8 , mserror:  0.24134031"
   ]
  },
  {
   "cell_type": "markdown",
   "metadata": {},
   "source": [
    "Задача 2"
   ]
  },
  {
   "cell_type": "code",
   "execution_count": null,
   "metadata": {},
   "outputs": [],
   "source": [
    "for i in range(1000):\n",
    "    y_pred = np.dot(W, X)\n",
    "    err = calc_mse(y, y_pred)\n",
    "    W -= (alpha * 1/n * np.sum(X * (y_pred - y)))\n",
    "    if err < = 1e-8:\n",
    "        print(i, W, err)\n",
    "        break"
   ]
  }
 ],
 "metadata": {
  "kernelspec": {
   "display_name": "Python 3",
   "language": "python",
   "name": "python3"
  },
  "language_info": {
   "codemirror_mode": {
    "name": "ipython",
    "version": 3
   },
   "file_extension": ".py",
   "mimetype": "text/x-python",
   "name": "python",
   "nbconvert_exporter": "python",
   "pygments_lexer": "ipython3",
   "version": "3.8.3"
  }
 },
 "nbformat": 4,
 "nbformat_minor": 4
}
