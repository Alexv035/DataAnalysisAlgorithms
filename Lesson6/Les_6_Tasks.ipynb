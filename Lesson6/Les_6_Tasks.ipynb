{
 "cells": [
  {
   "cell_type": "code",
   "execution_count": 43,
   "metadata": {
    "id": "Qk-74OFhbshx"
   },
   "outputs": [],
   "source": [
    "from sklearn.tree import DecisionTreeRegressor\n",
    "\n",
    "from sklearn import model_selection\n",
    "import numpy as np"
   ]
  },
  {
   "cell_type": "markdown",
   "metadata": {
    "id": "LYD1kLOibsh0"
   },
   "source": [
    "Используем один из \"игрушечных\" датасетов из той же библиотеки."
   ]
  },
  {
   "cell_type": "code",
   "execution_count": 44,
   "metadata": {
    "id": "eDZbSvqMbsh1"
   },
   "outputs": [],
   "source": [
    "from sklearn.datasets import load_diabetes"
   ]
  },
  {
   "cell_type": "code",
   "execution_count": 45,
   "metadata": {
    "id": "leu8bBI7bsh6"
   },
   "outputs": [],
   "source": [
    "X, y = load_diabetes(return_X_y=True)"
   ]
  },
  {
   "cell_type": "markdown",
   "metadata": {
    "id": "cz_JhiIpbsh8"
   },
   "source": [
    "Разделим выборку на обучающую и тестовую в соотношении 75/25."
   ]
  },
  {
   "cell_type": "code",
   "execution_count": 46,
   "metadata": {
    "id": "ExZPR9FLbsh9"
   },
   "outputs": [],
   "source": [
    "X_train, X_test, y_train, y_test = model_selection.train_test_split(X, y, test_size=0.25)"
   ]
  },
  {
   "cell_type": "markdown",
   "metadata": {
    "id": "7xJCdggZbsh_"
   },
   "source": [
    "Напишем функцию, реализующую предсказание в градиентном бустинге."
   ]
  },
  {
   "cell_type": "code",
   "execution_count": 47,
   "metadata": {
    "id": "wU_Rkc63bsiA"
   },
   "outputs": [],
   "source": [
    "def gb_predict(X, trees_list, coef_list, eta):\n",
    "    # Реализуемый алгоритм градиентного бустинга будет инициализироваться нулевыми значениями,\n",
    "    # поэтому все деревья из списка trees_list уже являются дополнительными и при предсказании прибавляются с шагом eta\n",
    "    return np.array([sum([eta* coef * alg.predict([x])[0] for alg, coef in zip(trees_list, coef_list)]) for x in X])"
   ]
  },
  {
   "cell_type": "markdown",
   "metadata": {
    "id": "6gZvsyfSbsiD"
   },
   "source": [
    "В качестве функционала ошибки будем использовать среднеквадратичную ошибку. Реализуем соответствующую функцию."
   ]
  },
  {
   "cell_type": "code",
   "execution_count": 48,
   "metadata": {
    "id": "0xbjFIEKbsiE"
   },
   "outputs": [],
   "source": [
    "def mean_squared_error(y_real, prediction):\n",
    "    return (sum((y_real - prediction)**2)) / len(y_real)"
   ]
  },
  {
   "cell_type": "markdown",
   "metadata": {
    "id": "Qlr3KD6zbsiH"
   },
   "source": [
    "Используем $L_{2}$ loss $L(y, z) = (y-z)^{2},$ ее производная по $z$ примет вид $L'(y, z) = 2(z-y)$. Реализуем ее также в виде функции (коэффициент 2 можно отбросить)."
   ]
  },
  {
   "cell_type": "code",
   "execution_count": 49,
   "metadata": {
    "id": "WRaZEd3ebsiI"
   },
   "outputs": [],
   "source": [
    "def bias(y, z):\n",
    "    return (y - z)"
   ]
  },
  {
   "cell_type": "markdown",
   "metadata": {
    "id": "ut-7dBgVbsiK"
   },
   "source": [
    "Реализуем функцию обучения градиентного бустинга."
   ]
  },
  {
   "cell_type": "code",
   "execution_count": 50,
   "metadata": {
    "id": "HoIdAoPYbsiL"
   },
   "outputs": [],
   "source": [
    "def gb_fit(n_trees, max_depth, X_train, X_test, y_train, y_test, coefs, eta):\n",
    "    \n",
    "    # Деревья будем записывать в список\n",
    "    trees = []\n",
    "    \n",
    "    # Будем записывать ошибки на обучающей и тестовой выборке на каждой итерации в список\n",
    "    train_errors = []\n",
    "    test_errors = []\n",
    "    \n",
    "    for i in range(n_trees):\n",
    "        tree = DecisionTreeRegressor(max_depth=max_depth, random_state=42)\n",
    "\n",
    "        # инициализируем бустинг начальным алгоритмом, возвращающим ноль, \n",
    "        # поэтому первый алгоритм просто обучаем на выборке и добавляем в список\n",
    "        if len(trees) == 0:\n",
    "            # обучаем первое дерево на обучающей выборке\n",
    "            tree.fit(X_train, y_train)\n",
    "            \n",
    "            train_errors.append(mean_squared_error(y_train, gb_predict(X_train, trees, coefs, eta)))\n",
    "            test_errors.append(mean_squared_error(y_test, gb_predict(X_test, trees, coefs, eta)))\n",
    "        else:\n",
    "            # Получим ответы на текущей композиции\n",
    "            target = gb_predict(X_train, trees, coefs, eta)\n",
    "            \n",
    "            # алгоритмы начиная со второго обучаем на сдвиг\n",
    "            tree.fit(X_train, bias(y_train, target))\n",
    "            \n",
    "            train_errors.append(mean_squared_error(y_train, gb_predict(X_train, trees, coefs, eta)))\n",
    "            test_errors.append(mean_squared_error(y_test, gb_predict(X_test, trees, coefs, eta)))\n",
    "\n",
    "        trees.append(tree)\n",
    "        \n",
    "    return trees, train_errors, test_errors"
   ]
  },
  {
   "cell_type": "markdown",
   "metadata": {
    "id": "0vkHFhhzbsiN"
   },
   "source": [
    "Теперь обучим несколько моделей с разными параметрами и исследуем их поведение."
   ]
  },
  {
   "cell_type": "code",
   "execution_count": 60,
   "metadata": {},
   "outputs": [],
   "source": [
    "def evaluate_alg(X_train, X_test, y_train, y_test, trees, coefs, eta, depth, trs):\n",
    "    train_prediction = gb_predict(X_train, trees, coefs, eta)\n",
    "    mse_train = mean_squared_error(y_train, train_prediction)\n",
    "    \n",
    "    print(f'Ошибка алгоритма из {trs} деревьев глубиной {depth} \\\n",
    "    с шагом {eta} на тренировочной выборке: {mse_train}')\n",
    "\n",
    "    test_prediction = gb_predict(X_test, trees, coefs, eta)\n",
    "    mse_test = mean_squared_error(y_test, test_prediction)\n",
    "\n",
    "    print(f'Ошибка алгоритма из {trs} деревьев глубиной {depth} \\\n",
    "    с шагом {eta} на тестовой выборке: {mse_test}')\n",
    "    \n",
    "    return mse_train, mse_test"
   ]
  },
  {
   "cell_type": "code",
   "execution_count": 61,
   "metadata": {
    "id": "2WvxluSlbsiO"
   },
   "outputs": [
    {
     "name": "stdout",
     "output_type": "stream",
     "text": [
      "Ошибка алгоритма из 10 деревьев глубиной 3     с шагом 1 на тренировочной выборке: 986.9366841713119\n",
      "Ошибка алгоритма из 10 деревьев глубиной 3     с шагом 1 на тестовой выборке: 6663.062034625852\n",
      "10 3 986.9366841713119 6663.062034625852\n",
      "Ошибка алгоритма из 10 деревьев глубиной 4     с шагом 1 на тренировочной выборке: 403.347335726934\n",
      "Ошибка алгоритма из 10 деревьев глубиной 4     с шагом 1 на тестовой выборке: 6939.710654702506\n",
      "10 4 403.347335726934 6939.710654702506\n",
      "Ошибка алгоритма из 10 деревьев глубиной 5     с шагом 1 на тренировочной выборке: 67.94591566187452\n",
      "Ошибка алгоритма из 10 деревьев глубиной 5     с шагом 1 на тестовой выборке: 7712.430559725743\n",
      "10 5 67.94591566187452 7712.430559725743\n",
      "Ошибка алгоритма из 15 деревьев глубиной 3     с шагом 1 на тренировочной выборке: 697.8990978300341\n",
      "Ошибка алгоритма из 15 деревьев глубиной 3     с шагом 1 на тестовой выборке: 7104.066207838363\n",
      "15 3 697.8990978300341 7104.066207838363\n",
      "Ошибка алгоритма из 15 деревьев глубиной 4     с шагом 1 на тренировочной выборке: 168.58289780534798\n",
      "Ошибка алгоритма из 15 деревьев глубиной 4     с шагом 1 на тестовой выборке: 7959.629293767743\n",
      "15 4 168.58289780534798 7959.629293767743\n",
      "Ошибка алгоритма из 15 деревьев глубиной 5     с шагом 1 на тренировочной выборке: 24.798606834461854\n",
      "Ошибка алгоритма из 15 деревьев глубиной 5     с шагом 1 на тестовой выборке: 7872.479610673791\n",
      "15 5 24.798606834461854 7872.479610673791\n",
      "Ошибка алгоритма из 25 деревьев глубиной 3     с шагом 1 на тренировочной выборке: 293.8167823909843\n",
      "Ошибка алгоритма из 25 деревьев глубиной 3     с шагом 1 на тестовой выборке: 7591.580970559972\n",
      "25 3 293.8167823909843 7591.580970559972\n",
      "Ошибка алгоритма из 25 деревьев глубиной 4     с шагом 1 на тренировочной выборке: 36.16551926364622\n",
      "Ошибка алгоритма из 25 деревьев глубиной 4     с шагом 1 на тестовой выборке: 8337.430858103398\n",
      "25 4 36.16551926364622 8337.430858103398\n",
      "Ошибка алгоритма из 25 деревьев глубиной 5     с шагом 1 на тренировочной выборке: 0.8374109055758393\n",
      "Ошибка алгоритма из 25 деревьев глубиной 5     с шагом 1 на тестовой выборке: 7904.8113037368\n",
      "25 5 0.8374109055758393 7904.8113037368\n",
      "Ошибка алгоритма из 50 деревьев глубиной 3     с шагом 1 на тренировочной выборке: 40.926477342084794\n",
      "Ошибка алгоритма из 50 деревьев глубиной 3     с шагом 1 на тестовой выборке: 8073.920065215282\n",
      "50 3 40.926477342084794 8073.920065215282\n",
      "Ошибка алгоритма из 50 деревьев глубиной 4     с шагом 1 на тренировочной выборке: 0.7159851541652406\n",
      "Ошибка алгоритма из 50 деревьев глубиной 4     с шагом 1 на тестовой выборке: 8709.847128513227\n",
      "50 4 0.7159851541652406 8709.847128513227\n",
      "Ошибка алгоритма из 50 деревьев глубиной 5     с шагом 1 на тренировочной выборке: 0.0003325227678904527\n",
      "Ошибка алгоритма из 50 деревьев глубиной 5     с шагом 1 на тестовой выборке: 7849.257994465745\n",
      "50 5 0.0003325227678904527 7849.257994465745\n"
     ]
    }
   ],
   "source": [
    "trees_f = []\n",
    "depth_f = []\n",
    "mse_ftrain = []\n",
    "mse_ftest = []\n",
    "\n",
    "n_trees = [10,15,25,50]\n",
    "\n",
    "# Максимальная глубина деревьев\n",
    "max_depth = [3,4,5]\n",
    "\n",
    "# Шаг\n",
    "eta = 1\n",
    "\n",
    "for trs in n_trees:\n",
    "    # для простоты примем коэффициенты равными 1\n",
    "    coefs = [1] * trs\n",
    "    for depth in max_depth:\n",
    "        \n",
    "        trees, train_errors, test_errors = gb_fit(trs, depth, X_train, X_test, y_train, y_test, coefs, eta)\n",
    "        \n",
    "        mse_train, mse_test = evaluate_alg(X_train, X_test, y_train, y_test, trees, coefs, eta, depth, trs)\n",
    "        \n",
    "        print(trs, depth, mse_train, mse_test)\n",
    "        trees_f.append(trs)\n",
    "        depth_f.append(depth)\n",
    "        mse_ftrain.append(mse_train)\n",
    "        mse_ftest.append(mse_test)\n",
    "            "
   ]
  },
  {
   "cell_type": "markdown",
   "metadata": {
    "id": "TluGn7Iubsib"
   },
   "source": [
    "Построим графики зависимости ошибки на обучающей и тестовой выборках от числа итераций."
   ]
  },
  {
   "cell_type": "code",
   "execution_count": 12,
   "metadata": {
    "id": "QXrSdSgjbsic"
   },
   "outputs": [],
   "source": [
    "import matplotlib.pyplot as plt"
   ]
  },
  {
   "cell_type": "code",
   "execution_count": 72,
   "metadata": {},
   "outputs": [],
   "source": [
    "# trees_f, depth_f, mse_ftrain, mse_ftest"
   ]
  },
  {
   "cell_type": "code",
   "execution_count": 88,
   "metadata": {
    "id": "gjDdKkgObsif"
   },
   "outputs": [
    {
     "data": {
      "text/plain": [
       "<matplotlib.legend.Legend at 0x12e50b16850>"
      ]
     },
     "execution_count": 88,
     "metadata": {},
     "output_type": "execute_result"
    },
    {
     "data": {
      "image/png": "[encoded data removed]",
      "text/plain": [
       "<Figure size 720x360 with 2 Axes>"
      ]
     },
     "metadata": {
      "needs_background": "light"
     },
     "output_type": "display_data"
    }
   ],
   "source": [
    "fig = plt.figure(figsize=(10, 5))\n",
    "plt.subplot(121)\n",
    "plt.title('MSE TEST в зависимости от Depth')\n",
    "plt.xlabel(r'Depth')\n",
    "plt.ylabel(r'MSE')\n",
    "plt.plot(depth_f[1:3], mse_ftest[1:3], depth_f[4:6], mse_ftest[4:6], depth_f[7:9], mse_ftest[7:9], depth_f[10:12], mse_ftest[10:12])\n",
    "plt.legend((\"10 trees\", \"15 trees\", \"25 trees\", \"50 trees\"))\n",
    "\n",
    "plt.subplot(122)\n",
    "plt.title('MSE TRAIN в зависимости от Depth')\n",
    "plt.xlabel(r'Depth')\n",
    "plt.ylabel(r'MSE')\n",
    "plt.plot(depth_f[1:3], mse_ftrain[1:3], depth_f[4:6], mse_ftrain[4:6], depth_f[7:9], mse_ftrain[7:9], depth_f[10:12], mse_ftrain[10:12])\n",
    "plt.legend((\"10 trees\", \"15 trees\", \"25 trees\", \"50 trees\"))"
   ]
  },
  {
   "cell_type": "markdown",
   "metadata": {},
   "source": [
    "При параметре деревьев ниже 15, модель ведет себя разнонаправлено: увеличение глубины дает большую ошибку на тестовой выборке. При параметре деревьев выше 15-25 идет существнное падение MSE TRAIN and MSE Test при увеличении глубины. При количестве деревьев более 25, при увеличении глубины, ошибка тестовой выборки существенно снижается, train снижается не существенно. "
   ]
  }
 ],
 "metadata": {
  "colab": {
   "collapsed_sections": [
    "Rg5ilDbTbshs",
    "Z2tMUhhXbsjK"
   ],
   "name": "Lesson_6(edited).ipynb",
   "provenance": []
  },
  "kernelspec": {
   "display_name": "Python 3",
   "language": "python",
   "name": "python3"
  },
  "language_info": {
   "codemirror_mode": {
    "name": "ipython",
    "version": 3
   },
   "file_extension": ".py",
   "mimetype": "text/x-python",
   "name": "python",
   "nbconvert_exporter": "python",
   "pygments_lexer": "ipython3",
   "version": "3.8.3"
  }
 },
 "nbformat": 4,
 "nbformat_minor": 1
}
